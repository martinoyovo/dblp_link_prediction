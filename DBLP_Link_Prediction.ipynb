{
 "cells": [
  {
   "cell_type": "markdown",
   "metadata": {},
   "source": "# DBLP Co-Publication Prediction\n\n**Objective**: Predict future collaborations between researchers with GNN + LSTM\n\n## Notebook Structure\n\n**PART 1**: DBLP data extraction → `co_publications.csv`\n\n**PART 2**: Complete analysis answering 7 questions:\n1. Literature review\n2. Dynamic graph challenges\n3. GCN/GAT + LSTM architecture\n4. Feature engineering\n5. Temporal validation\n6. Appropriate metrics\n7. Visualizations"
  },
  {
   "cell_type": "markdown",
   "metadata": {},
   "source": "---\n\n# PART 1: DBLP Data Extraction\n\n**If you already have `co_publications.csv`, skip to Part 2**"
  },
  {
   "cell_type": "markdown",
   "metadata": {},
   "source": "## 1.1 DBLP Download\n\n**Important**: \n- File size is ~950MB\n- Download takes **10-15 minutes**\n- Make sure you have ~2GB of disk space"
  },
  {
   "cell_type": "code",
   "execution_count": null,
   "metadata": {},
   "outputs": [],
   "source": "# Download DBLP with curl (macOS/Linux)\n# !curl -L -O https://dblp.org/xml/dblp.xml.gz\n# !curl -L -O https://dblp.org/xml/dblp.dtd\n\n# print(\"Download started (10-15 minutes)\")"
  },
  {
   "cell_type": "markdown",
   "metadata": {},
   "source": "## 1.2 Installation"
  },
  {
   "cell_type": "code",
   "execution_count": 18,
   "metadata": {},
   "outputs": [
    {
     "name": "stdout",
     "output_type": "stream",
     "text": [
      "Defaulting to user installation because normal site-packages is not writeable\n",
      "Requirement already satisfied: lxml in /Users/kos14224/Library/Python/3.9/lib/python/site-packages (6.0.2)\n",
      "\u001b[33mWARNING: You are using pip version 21.2.4; however, version 25.2 is available.\n",
      "You should consider upgrading via the '/Applications/Xcode_15.2.0.app/Contents/Developer/usr/bin/python3 -m pip install --upgrade pip' command.\u001b[0m\n"
     ]
    }
   ],
   "source": [
    "!pip3 install lxml"
   ]
  },
  {
   "cell_type": "markdown",
   "metadata": {},
   "source": "## 1.3 Imports"
  },
  {
   "cell_type": "code",
   "execution_count": 19,
   "metadata": {},
   "outputs": [],
   "source": [
    "import os\n",
    "import gzip\n",
    "import itertools\n",
    "import csv\n",
    "import re\n",
    "from collections import deque\n",
    "from lxml import etree as ET\n",
    "import html"
   ]
  },
  {
   "cell_type": "markdown",
   "metadata": {},
   "source": "## 1.4 Configuration"
  },
  {
   "cell_type": "code",
   "execution_count": null,
   "metadata": {},
   "outputs": [],
   "source": "archive_file = \"dblp.xml.gz\"\nxml_file = \"dblp.xml\"\nclean_xml = \"dblp_clean.xml\"\ntail_xml = \"dblp_tail.xml\"\ntail_num_lines = 2000010\ncsv_file = \"co_publications.csv\"\n\nprint(f\"Output file: {csv_file}\")"
  },
  {
   "cell_type": "markdown",
   "metadata": {},
   "source": "## 1.5 XML Extraction"
  },
  {
   "cell_type": "code",
   "execution_count": null,
   "metadata": {},
   "outputs": [],
   "source": "# Extract the XML (if necessary)\nif not os.path.exists(xml_file) and os.path.exists(archive_file):\n    print(f\"Extracting {archive_file}...\")\n    import gzip\n    import shutil\n    with gzip.open(archive_file, 'rb') as f_in:\n        with open(xml_file, 'wb') as f_out:\n            shutil.copyfileobj(f_in, f_out)\n    print(f\"{xml_file} extracted\")\nelif os.path.exists(xml_file):\n    print(f\"{xml_file} already exists\")\nelse:\n    print(f\"{archive_file} not found. Download it first!\")"
  },
  {
   "cell_type": "markdown",
   "metadata": {},
   "source": "## 1.6 Extraction Functions"
  },
  {
   "cell_type": "code",
   "execution_count": null,
   "metadata": {},
   "outputs": [],
   "source": "def extract_tail_lines(input_file, output_file, n_lines=200000):\n    \"\"\"Extract last n_lines of an XML file into a valid XML snippet.\"\"\"\n    with open(input_file, \"r\", encoding=\"utf-8\", errors=\"ignore\") as f:\n        last_lines = deque(f, maxlen=n_lines)\n\n    with open(output_file, \"w\", encoding=\"utf-8\") as f_out:\n        f_out.write(\"<dblp>\\n\")\n        f_out.writelines(last_lines)\n        if not last_lines or not last_lines[-1].strip().endswith(\"</dblp>\"):\n            f_out.write(\"\\n</dblp>\")\n\n    print(f\"Extracted last {n_lines} lines to {output_file}\")\n\n\n_amp_re = re.compile(r'&(?!#\\d+;|#x[0-9A-Fa-f]+;|[A-Za-z][A-Za-z0-9]*;)', flags=re.UNICODE)\n_lt_re  = re.compile(r'<(?![/\\?!A-Za-z_:])', flags=re.UNICODE)\n\n\ndef clean_entities_stream(infile, outfile):\n    print(f\"Cleaning entities: {infile} -> {outfile}\")\n    with open(infile, \"r\", encoding=\"utf-8\", errors=\"replace\") as fin, \\\n         open(outfile, \"w\", encoding=\"utf-8\") as fout:\n        for line in fin:\n            line = html.unescape(line)\n            line = _amp_re.sub(\"&amp;\", line)\n            line = re.sub(r'<(?=\\s)', \"&lt;\", line)\n            line = re.sub(r'(?<=\\s)>(?=\\s)', \"&gt;\", line)\n            line = _lt_re.sub(\"&lt;\", line)\n            fout.write(line)\n    print(\"Cleaning done.\")\n\n\ndef extract_yearly_link_data(clean_xml_file, output_csv):\n    print(f\"Parsing {clean_xml_file} and writing co-publications to {output_csv}\")\n    with open(output_csv, \"w\", newline=\"\", encoding=\"utf-8\") as f_out:\n        writer = csv.writer(f_out)\n        writer.writerow([\"year\", \"author1\", \"author2\"])\n\n        context = ET.iterparse(clean_xml_file, events=(\"end\",),\n                               tag=(\"article\", \"inproceedings\", \"book\", \"proceedings\"))\n        for event, elem in context:\n            year_elem = elem.find(\"year\")\n            authors = [a.text for a in elem.findall(\"author\") if a.text]\n\n            if year_elem is None or not authors:\n                elem.clear()\n                while elem.getprevious() is not None:\n                    del elem.getparent()[0]\n                continue\n\n            try:\n                year = int(year_elem.text)\n            except (ValueError, TypeError):\n                elem.clear()\n                while elem.getprevious() is not None:\n                    del elem.getparent()[0]\n                continue\n\n            for a1, a2 in itertools.combinations(sorted(authors), 2):\n                writer.writerow([year, a1, a2])\n\n            elem.clear()\n            while elem.getprevious() is not None:\n                del elem.getparent()[0]\n\n    print(f\"Co-publication links saved to {output_csv}\")\n\n\ndef extraction_pipeline(input_file, tail_file, clean_file, output_file, num_tail_lines):\n    loc_tail_num_lines = num_tail_lines\n    try:\n        print(f\"\\nTrying {loc_tail_num_lines} tail lines\")\n        extract_tail_lines(input_file, tail_file, loc_tail_num_lines)\n        clean_entities_stream(tail_file, clean_file)\n        extract_yearly_link_data(clean_file, output_file)\n    except ET.ParseError as e:\n        print(f\"Caught parsing error: {e}\")\n        loc_tail_num_lines += 1\n        extraction_pipeline(input_file, tail_file, clean_file, output_file, loc_tail_num_lines)\n\nprint(\"Extraction functions defined\")"
  },
  {
   "cell_type": "markdown",
   "metadata": {},
   "source": "## 1.7 Running the Extraction\n\n**May take several minutes**"
  },
  {
   "cell_type": "code",
   "execution_count": null,
   "metadata": {},
   "outputs": [],
   "source": "if os.path.exists(csv_file):\n    print(f\"{csv_file} already exists\")\nelse:\n    extraction_pipeline(xml_file, tail_xml, clean_xml, csv_file, tail_num_lines)\n    print(\"\\nExtraction complete!\")"
  },
  {
   "cell_type": "markdown",
   "metadata": {},
   "source": "---\n\n# PART 2: Analysis and Modeling\n\nNow that we have `co_publications.csv`, let's analyze the data and build the model."
  },
  {
   "cell_type": "markdown",
   "metadata": {},
   "source": "---\n\n## Question 1: Literature Review\n\n### Static vs Dynamic Methods\n\n**Static** (GCN, GraphSAGE, GAT):\n- Ignore temporal evolution\n- Sensitive to distribution shift\n- Don't capture trends\n\n**Dynamic** (Temporal GNN, LSTM):\n- Capture evolution\n- Model recurring patterns  \n- Adapt to changes\n\n**For DBLP**: Dynamic essential as network constantly evolves\n\n---\n\n## Question 2: Identified Challenges\n\n1. **Complex temporality**: Long-term dependencies (20+ years)\n2. **Distribution shift**: New domains emerging\n3. **Sparsity**: Only 1-2% positive links\n4. **Cold start**: New researchers without history\n5. **DBLP properties**: Publication delay, seasonality\n6. **Evolution**: Growth, attrition, recombination"
  },
  {
   "cell_type": "markdown",
   "metadata": {},
   "source": "## 2.1 Imports for Analysis"
  },
  {
   "cell_type": "code",
   "execution_count": null,
   "metadata": {},
   "outputs": [
    {
     "name": "stdout",
     "output_type": "stream",
     "text": [
      "Defaulting to user installation because normal site-packages is not writeable\n",
      "Collecting torch\n",
      "  Downloading torch-2.8.0-cp39-none-macosx_11_0_arm64.whl (73.6 MB)\n",
      "\u001b[K     |████████████████████████████████| 73.6 MB 1.1 MB/s eta 0:00:01\n",
      "\u001b[?25hCollecting torch-geometric\n",
      "  Using cached torch_geometric-2.6.1-py3-none-any.whl (1.1 MB)\n",
      "Collecting networkx\n",
      "  Downloading networkx-3.2.1-py3-none-any.whl (1.6 MB)\n",
      "\u001b[K     |████████████████████████████████| 1.6 MB 1.1 MB/s eta 0:00:01\n",
      "\u001b[?25hCollecting pandas\n",
      "  Downloading pandas-2.3.3-cp39-cp39-macosx_11_0_arm64.whl (10.8 MB)\n",
      "\u001b[K     |████████████████████████████████| 10.8 MB 1.0 MB/s eta 0:00:01\n",
      "\u001b[?25hCollecting numpy\n",
      "  Downloading numpy-2.0.2-cp39-cp39-macosx_14_0_arm64.whl (5.3 MB)\n",
      "\u001b[K     |████████████████████████████████| 5.3 MB 1.1 MB/s eta 0:00:01\n",
      "\u001b[?25hCollecting scikit-learn\n",
      "  Downloading scikit_learn-1.6.1-cp39-cp39-macosx_12_0_arm64.whl (11.1 MB)\n",
      "\u001b[K     |████████████████████████████████| 11.1 MB 1.2 MB/s eta 0:00:01\n",
      "\u001b[?25hCollecting matplotlib\n",
      "  Downloading matplotlib-3.9.4-cp39-cp39-macosx_11_0_arm64.whl (7.8 MB)\n",
      "\u001b[K     |████████████████████████████████| 7.8 MB 1.2 MB/s eta 0:00:01\n",
      "\u001b[?25hCollecting seaborn\n",
      "  Using cached seaborn-0.13.2-py3-none-any.whl (294 kB)\n",
      "Collecting tqdm\n",
      "  Using cached tqdm-4.67.1-py3-none-any.whl (78 kB)\n",
      "Collecting sympy>=1.13.3\n",
      "  Using cached sympy-1.14.0-py3-none-any.whl (6.3 MB)\n",
      "Collecting jinja2\n",
      "  Using cached jinja2-3.1.6-py3-none-any.whl (134 kB)\n",
      "Collecting fsspec\n",
      "  Downloading fsspec-2025.9.0-py3-none-any.whl (199 kB)\n",
      "\u001b[K     |████████████████████████████████| 199 kB 3.2 MB/s eta 0:00:01\n",
      "\u001b[?25hCollecting filelock\n",
      "  Downloading filelock-3.19.1-py3-none-any.whl (15 kB)\n",
      "Requirement already satisfied: typing-extensions>=4.10.0 in /Users/kos14224/Library/Python/3.9/lib/python/site-packages (from torch) (4.15.0)\n",
      "Collecting aiohttp\n",
      "  Downloading aiohttp-3.12.15-cp39-cp39-macosx_11_0_arm64.whl (469 kB)\n",
      "\u001b[K     |████████████████████████████████| 469 kB 8.6 MB/s eta 0:00:01\n",
      "\u001b[?25hRequirement already satisfied: psutil>=5.8.0 in /Users/kos14224/Library/Python/3.9/lib/python/site-packages (from torch-geometric) (7.1.0)\n",
      "Collecting pyparsing\n",
      "  Using cached pyparsing-3.2.5-py3-none-any.whl (113 kB)\n",
      "Collecting requests\n",
      "  Downloading requests-2.32.5-py3-none-any.whl (64 kB)\n",
      "\u001b[K     |████████████████████████████████| 64 kB 6.7 MB/s  eta 0:00:01\n",
      "\u001b[?25hCollecting tzdata>=2022.7\n",
      "  Using cached tzdata-2025.2-py2.py3-none-any.whl (347 kB)\n",
      "Requirement already satisfied: python-dateutil>=2.8.2 in /Users/kos14224/Library/Python/3.9/lib/python/site-packages (from pandas) (2.9.0.post0)\n",
      "Collecting pytz>=2020.1\n",
      "  Using cached pytz-2025.2-py2.py3-none-any.whl (509 kB)\n",
      "Collecting joblib>=1.2.0\n",
      "  Downloading joblib-1.5.2-py3-none-any.whl (308 kB)\n",
      "\u001b[K     |████████████████████████████████| 308 kB 4.9 MB/s eta 0:00:01\n",
      "\u001b[?25hCollecting scipy>=1.6.0\n",
      "  Downloading scipy-1.13.1-cp39-cp39-macosx_12_0_arm64.whl (30.3 MB)\n",
      "\u001b[K     |████████████████████████████████| 30.3 MB 1.1 MB/s eta 0:00:01\n",
      "\u001b[?25hCollecting threadpoolctl>=3.1.0\n",
      "  Using cached threadpoolctl-3.6.0-py3-none-any.whl (18 kB)\n",
      "Collecting contourpy>=1.0.1\n",
      "  Downloading contourpy-1.3.0-cp39-cp39-macosx_11_0_arm64.whl (249 kB)\n",
      "\u001b[K     |████████████████████████████████| 249 kB 3.2 MB/s eta 0:00:01\n",
      "\u001b[?25hRequirement already satisfied: packaging>=20.0 in /Users/kos14224/Library/Python/3.9/lib/python/site-packages (from matplotlib) (25.0)\n",
      "Collecting pillow>=8\n",
      "  Downloading pillow-11.3.0-cp39-cp39-macosx_11_0_arm64.whl (4.7 MB)\n",
      "\u001b[K     |████████████████████████████████| 4.7 MB 1.1 MB/s eta 0:00:01\n",
      "\u001b[?25hCollecting kiwisolver>=1.3.1\n",
      "  Downloading kiwisolver-1.4.7-cp39-cp39-macosx_11_0_arm64.whl (64 kB)\n",
      "\u001b[K     |████████████████████████████████| 64 kB 466 kB/s eta 0:00:01\n",
      "\u001b[?25hCollecting fonttools>=4.22.0\n",
      "  Downloading fonttools-4.60.1-cp39-cp39-macosx_10_9_universal2.whl (2.8 MB)\n",
      "\u001b[K     |████████████████████████████████| 2.8 MB 1.2 MB/s eta 0:00:01\n",
      "\u001b[?25hCollecting importlib-resources>=3.2.0\n",
      "  Downloading importlib_resources-6.5.2-py3-none-any.whl (37 kB)\n",
      "Collecting cycler>=0.10\n",
      "  Using cached cycler-0.12.1-py3-none-any.whl (8.3 kB)\n",
      "Requirement already satisfied: zipp>=3.1.0 in /Users/kos14224/Library/Python/3.9/lib/python/site-packages (from importlib-resources>=3.2.0->matplotlib) (3.23.0)\n",
      "Requirement already satisfied: six>=1.5 in /Applications/Xcode_15.2.0.app/Contents/Developer/Library/Frameworks/Python3.framework/Versions/3.9/lib/python3.9/site-packages (from python-dateutil>=2.8.2->pandas) (1.15.0)\n",
      "Collecting mpmath<1.4,>=1.1.0\n",
      "  Using cached mpmath-1.3.0-py3-none-any.whl (536 kB)\n",
      "Collecting aiohappyeyeballs>=2.5.0\n",
      "  Using cached aiohappyeyeballs-2.6.1-py3-none-any.whl (15 kB)\n",
      "Collecting attrs>=17.3.0\n",
      "  Using cached attrs-25.3.0-py3-none-any.whl (63 kB)\n",
      "Collecting propcache>=0.2.0\n",
      "  Downloading propcache-0.3.2-cp39-cp39-macosx_11_0_arm64.whl (43 kB)\n",
      "\u001b[K     |████████████████████████████████| 43 kB 2.6 MB/s eta 0:00:01\n",
      "\u001b[?25hCollecting async-timeout<6.0,>=4.0\n",
      "  Using cached async_timeout-5.0.1-py3-none-any.whl (6.2 kB)\n",
      "Collecting aiosignal>=1.4.0\n",
      "  Downloading aiosignal-1.4.0-py3-none-any.whl (7.5 kB)\n",
      "Collecting frozenlist>=1.1.1\n",
      "  Downloading frozenlist-1.7.0-cp39-cp39-macosx_11_0_arm64.whl (47 kB)\n",
      "\u001b[K     |████████████████████████████████| 47 kB 2.6 MB/s eta 0:00:01\n",
      "\u001b[?25hCollecting multidict<7.0,>=4.5\n",
      "  Downloading multidict-6.6.4-cp39-cp39-macosx_11_0_arm64.whl (44 kB)\n",
      "\u001b[K     |████████████████████████████████| 44 kB 2.4 MB/s eta 0:00:01\n",
      "\u001b[?25hCollecting yarl<2.0,>=1.17.0\n",
      "  Downloading yarl-1.20.1-cp39-cp39-macosx_11_0_arm64.whl (89 kB)\n",
      "\u001b[K     |████████████████████████████████| 89 kB 2.7 MB/s eta 0:00:01\n",
      "\u001b[?25hCollecting idna>=2.0\n",
      "  Using cached idna-3.10-py3-none-any.whl (70 kB)\n",
      "Collecting MarkupSafe>=2.0\n",
      "  Downloading markupsafe-3.0.3-cp39-cp39-macosx_11_0_arm64.whl (12 kB)\n",
      "Collecting urllib3<3,>=1.21.1\n",
      "  Downloading urllib3-2.5.0-py3-none-any.whl (129 kB)\n",
      "\u001b[K     |████████████████████████████████| 129 kB 2.3 MB/s eta 0:00:01\n",
      "\u001b[?25hCollecting certifi>=2017.4.17\n",
      "  Downloading certifi-2025.8.3-py3-none-any.whl (161 kB)\n",
      "\u001b[K     |████████████████████████████████| 161 kB 2.4 MB/s eta 0:00:01\n",
      "\u001b[?25hCollecting charset_normalizer<4,>=2\n",
      "  Downloading charset_normalizer-3.4.3-cp39-cp39-macosx_10_9_universal2.whl (207 kB)\n",
      "\u001b[K     |████████████████████████████████| 207 kB 2.8 MB/s eta 0:00:01\n",
      "\u001b[?25hInstalling collected packages: propcache, numpy, multidict, idna, frozenlist, yarl, urllib3, tzdata, pytz, pyparsing, pillow, mpmath, MarkupSafe, kiwisolver, importlib-resources, fonttools, cycler, contourpy, charset-normalizer, certifi, attrs, async-timeout, aiosignal, aiohappyeyeballs, tqdm, threadpoolctl, sympy, scipy, requests, pandas, networkx, matplotlib, joblib, jinja2, fsspec, filelock, aiohttp, torch-geometric, torch, seaborn, scikit-learn\n",
      "Successfully installed MarkupSafe-3.0.3 aiohappyeyeballs-2.6.1 aiohttp-3.12.15 aiosignal-1.4.0 async-timeout-5.0.1 attrs-25.3.0 certifi-2025.8.3 charset-normalizer-3.4.3 contourpy-1.3.0 cycler-0.12.1 filelock-3.19.1 fonttools-4.60.1 frozenlist-1.7.0 fsspec-2025.9.0 idna-3.10 importlib-resources-6.5.2 jinja2-3.1.6 joblib-1.5.2 kiwisolver-1.4.7 matplotlib-3.9.4 mpmath-1.3.0 multidict-6.6.4 networkx-3.2.1 numpy-2.0.2 pandas-2.3.3 pillow-11.3.0 propcache-0.3.2 pyparsing-3.2.5 pytz-2025.2 requests-2.32.5 scikit-learn-1.6.1 scipy-1.13.1 seaborn-0.13.2 sympy-1.14.0 threadpoolctl-3.6.0 torch-2.8.0 torch-geometric-2.6.1 tqdm-4.67.1 tzdata-2025.2 urllib3-2.5.0 yarl-1.20.1\n",
      "\u001b[33mWARNING: You are using pip version 21.2.4; however, version 25.2 is available.\n",
      "You should consider upgrading via the '/Applications/Xcode_15.2.0.app/Contents/Developer/usr/bin/python3 -m pip install --upgrade pip' command.\u001b[0m\n"
     ]
    }
   ],
   "source": [
    "!pip3 install torch torch-geometric networkx pandas numpy scikit-learn matplotlib seaborn tqdm"
   ]
  },
  {
   "cell_type": "code",
   "execution_count": 10,
   "metadata": {},
   "outputs": [
    {
     "name": "stdout",
     "output_type": "stream",
     "text": [
      "PyTorch: 2.8.0\n",
      "Device: cpu\n"
     ]
    }
   ],
   "source": [
    "import pandas as pd\n",
    "import numpy as np\n",
    "import networkx as nx\n",
    "import matplotlib.pyplot as plt\n",
    "import seaborn as sns\n",
    "from typing import Dict, List, Tuple\n",
    "\n",
    "import torch\n",
    "import torch.nn as nn\n",
    "import torch.nn.functional as F\n",
    "from torch_geometric.nn import GCNConv\n",
    "from torch_geometric.data import Data\n",
    "\n",
    "from sklearn.metrics import (\n",
    "    roc_auc_score, average_precision_score, precision_recall_curve,\n",
    "    precision_score, recall_score, f1_score, confusion_matrix, roc_curve\n",
    ")\n",
    "\n",
    "from tqdm import tqdm\n",
    "\n",
    "sns.set_style('whitegrid')\n",
    "plt.rcParams['figure.figsize'] = (12, 6)\n",
    "\n",
    "print(f\"PyTorch: {torch.__version__}\")\n",
    "print(f\"Device: {'cuda' if torch.cuda.is_available() else 'cpu'}\")"
   ]
  },
  {
   "cell_type": "markdown",
   "metadata": {},
   "source": "## 2.2 Loading Data"
  },
  {
   "cell_type": "code",
   "execution_count": 11,
   "metadata": {},
   "outputs": [
    {
     "name": "stdout",
     "output_type": "stream",
     "text": [
      "Shape: (253921, 3)\n",
      "Years: 1951 - 2026\n",
      "Authors: 82882\n"
     ]
    },
    {
     "data": {
      "text/html": [
       "<div>\n",
       "<style scoped>\n",
       "    .dataframe tbody tr th:only-of-type {\n",
       "        vertical-align: middle;\n",
       "    }\n",
       "\n",
       "    .dataframe tbody tr th {\n",
       "        vertical-align: top;\n",
       "    }\n",
       "\n",
       "    .dataframe thead th {\n",
       "        text-align: right;\n",
       "    }\n",
       "</style>\n",
       "<table border=\"1\" class=\"dataframe\">\n",
       "  <thead>\n",
       "    <tr style=\"text-align: right;\">\n",
       "      <th></th>\n",
       "      <th>year</th>\n",
       "      <th>author1</th>\n",
       "      <th>author2</th>\n",
       "    </tr>\n",
       "  </thead>\n",
       "  <tbody>\n",
       "    <tr>\n",
       "      <th>0</th>\n",
       "      <td>2020</td>\n",
       "      <td>Kerstin Voigt</td>\n",
       "      <td>Yue Zhou</td>\n",
       "    </tr>\n",
       "    <tr>\n",
       "      <th>1</th>\n",
       "      <td>2024</td>\n",
       "      <td>Cunli Mao</td>\n",
       "      <td>Ji-Rong Wen</td>\n",
       "    </tr>\n",
       "    <tr>\n",
       "      <th>2</th>\n",
       "      <td>2024</td>\n",
       "      <td>Cunli Mao</td>\n",
       "      <td>Jia-Nan Li</td>\n",
       "    </tr>\n",
       "    <tr>\n",
       "      <th>3</th>\n",
       "      <td>2024</td>\n",
       "      <td>Cunli Mao</td>\n",
       "      <td>Quan Tu</td>\n",
       "    </tr>\n",
       "    <tr>\n",
       "      <th>4</th>\n",
       "      <td>2024</td>\n",
       "      <td>Cunli Mao</td>\n",
       "      <td>Rui Yan 0001</td>\n",
       "    </tr>\n",
       "  </tbody>\n",
       "</table>\n",
       "</div>"
      ],
      "text/plain": [
       "   year        author1       author2\n",
       "0  2020  Kerstin Voigt      Yue Zhou\n",
       "1  2024      Cunli Mao   Ji-Rong Wen\n",
       "2  2024      Cunli Mao    Jia-Nan Li\n",
       "3  2024      Cunli Mao       Quan Tu\n",
       "4  2024      Cunli Mao  Rui Yan 0001"
      ]
     },
     "execution_count": 11,
     "metadata": {},
     "output_type": "execute_result"
    }
   ],
   "source": [
    "df = pd.read_csv('co_publications.csv')\n",
    "\n",
    "print(f\"Shape: {df.shape}\")\n",
    "print(f\"Years: {df['year'].min()} - {df['year'].max()}\")\n",
    "print(f\"Authors: {len(set(df['author1']) | set(df['author2']))}\")\n",
    "\n",
    "df.head()"
   ]
  },
  {
   "cell_type": "code",
   "execution_count": null,
   "metadata": {},
   "outputs": [],
   "source": "# Author mapping -> IDs\nall_authors = sorted(set(df['author1']) | set(df['author2']))\nauthor_to_id = {a: i for i, a in enumerate(all_authors)}\nid_to_author = {i: a for a, i in author_to_id.items()}\n\nprint(f\"Total authors: {len(author_to_id):,}\")"
  },
  {
   "cell_type": "markdown",
   "metadata": {},
   "source": "## 2.3 Temporal Graphs"
  },
  {
   "cell_type": "code",
   "execution_count": 13,
   "metadata": {},
   "outputs": [
    {
     "name": "stdout",
     "output_type": "stream",
     "text": [
      "2015: 82,882 nodes, 4,352 edges\n",
      "2016: 82,882 nodes, 9,447 edges\n",
      "2017: 82,882 nodes, 18,558 edges\n",
      "2018: 82,882 nodes, 26,893 edges\n",
      "2019: 82,882 nodes, 36,757 edges\n",
      "2020: 82,882 nodes, 53,013 edges\n"
     ]
    }
   ],
   "source": [
    "def build_temporal_graphs(df, author_to_id, start=2015, end=2020):\n",
    "    graphs = {}\n",
    "    edges = set()\n",
    "    \n",
    "    for year in range(start, end + 1):\n",
    "        year_data = df[df['year'] == year]\n",
    "        for _, row in year_data.iterrows():\n",
    "            u, v = author_to_id[row['author1']], author_to_id[row['author2']]\n",
    "            edges.add((min(u,v), max(u,v)))\n",
    "        \n",
    "        G = nx.Graph()\n",
    "        G.add_nodes_from(range(len(author_to_id)))\n",
    "        G.add_edges_from(edges)\n",
    "        graphs[year] = G\n",
    "        print(f\"{year}: {G.number_of_nodes():,} nodes, {G.number_of_edges():,} edges\")\n",
    "    \n",
    "    return graphs\n",
    "\n",
    "temporal_graphs = build_temporal_graphs(df, author_to_id)"
   ]
  },
  {
   "cell_type": "markdown",
   "metadata": {},
   "source": "---\n\n## Question 3: Architecture\n\n### GCN + LSTM\n\n```\nGraphs [G_t-k, ..., G_t-1]\n  ↓ GCN (structure)\nEmbeddings [h_t-k, ..., h_t-1]\n  ↓ LSTM (time)\nFinal state h_t\n  ↓ MLP\nP(link | u,v)\n```\n\n**GCN**: Captures local structure\n**LSTM**: Captures temporal dynamics"
  },
  {
   "cell_type": "code",
   "execution_count": null,
   "metadata": {},
   "outputs": [],
   "source": "class GCNEncoder(nn.Module):\n    def __init__(self, in_dim, hid_dim, out_dim, dropout=0.5):\n        super().__init__()\n        self.conv1 = GCNConv(in_dim, hid_dim)\n        self.conv2 = GCNConv(hid_dim, out_dim)\n        self.dropout = dropout\n    \n    def forward(self, x, edge_index):\n        x = F.relu(self.conv1(x, edge_index))\n        x = F.dropout(x, self.dropout, training=self.training)\n        x = self.conv2(x, edge_index)\n        return x\n\nclass StaticGNN(nn.Module):\n    def __init__(self, in_dim, hid_dim, out_dim, dropout=0.5):\n        super().__init__()\n        self.encoder = GCNEncoder(in_dim, hid_dim, out_dim, dropout)\n        self.predictor = nn.Sequential(\n            nn.Linear(out_dim * 2, hid_dim),\n            nn.ReLU(),\n            nn.Dropout(dropout),\n            nn.Linear(hid_dim, 1)\n        )\n    \n    def forward(self, data, edge_index):\n        h = self.encoder(data.x, data.edge_index)\n        src, dst = h[edge_index[0]], h[edge_index[1]]\n        return self.predictor(torch.cat([src, dst], 1)).squeeze()\n\nprint(\"GCN architecture defined\")"
  },
  {
   "cell_type": "markdown",
   "metadata": {},
   "source": "---\n\n## Question 4: Feature Engineering\n\n**Node Features**:\n1. **Structural**: Degree, clustering, PageRank\n2. **Publications**: Count, rate, cumulative\n3. **Collaboration**: Number of collaborators, diversity\n4. **Temporal**: Recent activity, trends\n\n**Justification**: Active + central researchers → more collaborations"
  },
  {
   "cell_type": "code",
   "execution_count": 15,
   "metadata": {},
   "outputs": [
    {
     "name": "stdout",
     "output_type": "stream",
     "text": [
      "Extracting features for 82,882 nodes...\n"
     ]
    },
    {
     "name": "stderr",
     "output_type": "stream",
     "text": [
      "Features: 100%|██████████| 82882/82882 [00:00<00:00, 1154636.90it/s]"
     ]
    },
    {
     "name": "stdout",
     "output_type": "stream",
     "text": [
      "✅ Features: torch.Size([82882, 4])\n"
     ]
    },
    {
     "name": "stderr",
     "output_type": "stream",
     "text": [
      "\n"
     ]
    }
   ],
   "source": [
    "def extract_features(G, num_nodes=None):\n",
    "    \"\"\"Extract simple structural features for all nodes\"\"\"\n",
    "    if num_nodes is None:\n",
    "        num_nodes = G.number_of_nodes()\n",
    "    \n",
    "    print(f\"Extracting features for {num_nodes:,} nodes...\")\n",
    "    \n",
    "    # Compute once for all nodes\n",
    "    pagerank = nx.pagerank(G, max_iter=50)\n",
    "    clustering = nx.clustering(G)\n",
    "    \n",
    "    features = []\n",
    "    for node in tqdm(range(num_nodes), desc=\"Features\"):\n",
    "        f = [\n",
    "            G.degree(node),           # Degree\n",
    "            clustering.get(node, 0),  # Clustering coefficient\n",
    "            pagerank.get(node, 0),    # PageRank\n",
    "            len(list(G.neighbors(node))),  # Number of neighbors\n",
    "        ]\n",
    "        features.append(f)\n",
    "    \n",
    "    X = torch.tensor(features, dtype=torch.float32)\n",
    "    # Normalize\n",
    "    X = (X - X.mean(0)) / (X.std(0) + 1e-8)\n",
    "    return X\n",
    "\n",
    "test_features = extract_features(temporal_graphs[test_year-1])\n",
    "print(f\"✅ Features: {test_features.shape}\")"
   ]
  },
  {
   "cell_type": "markdown",
   "metadata": {},
   "source": "---\n\n## Question 5: Temporal Validation\n\n### NEVER use random split!\n\n**Reasons**:\n1. Data leakage (future → training)\n2. Not realistic (production = predict future)\n3. Ignores distribution shift\n\n**Correct protocol**:\n```\nTrain: 2015-2017 → Graph G_2017\nTest:  2019      → Predict new links 2019\n```"
  },
  {
   "cell_type": "code",
   "execution_count": null,
   "metadata": {},
   "outputs": [],
   "source": "# Temporal splits\ntrain_years = [2015, 2016, 2017]\ntest_year = 2019\n\nprint(f\"Train: {train_years}\")\nprint(f\"Test: {test_year}\")\nprint(\"Strict temporal order\")"
  },
  {
   "cell_type": "code",
   "execution_count": null,
   "metadata": {},
   "outputs": [],
   "source": "def get_new_edges(G_curr, G_prev):\n    return set(G_curr.edges()) - set(G_prev.edges())\n\ndef generate_negatives(G, positives, ratio=1.0):\n    negatives = set()\n    nodes = list(G.nodes())\n    n = int(len(positives) * ratio)\n    \n    while len(negatives) < n:\n        u, v = np.random.choice(nodes, 2, replace=False)\n        u, v = min(u,v), max(u,v)\n        if not G.has_edge(u,v):\n            negatives.add((u,v))\n    return negatives\n\ntest_pos = get_new_edges(temporal_graphs[test_year], temporal_graphs[test_year-1])\ntest_neg = generate_negatives(temporal_graphs[test_year-1], test_pos)\n\nprint(f\"Test positives: {len(test_pos):,}\")\nprint(f\"Test negatives: {len(test_neg):,}\")\nprint(f\"Balance: {len(test_pos)/(len(test_pos)+len(test_neg)):.1%}\")"
  },
  {
   "cell_type": "markdown",
   "metadata": {},
   "source": "---\n\n## Question 6: Metrics\n\n### Accuracy Insufficient\n\nWith 1% positive links:\n- Predict \"no link\" everywhere = 99% accuracy\n- But 0% links detected!\n\n### Appropriate Metrics\n\n1. **ROC-AUC**: Ranking quality\n2. **Average Precision**: Focus on positives\n3. **Precision@K**: Top-K predictions\n4. **Hits@K**: Coverage of true links"
  },
  {
   "cell_type": "code",
   "execution_count": null,
   "metadata": {},
   "outputs": [],
   "source": "def evaluate(y_true, y_pred_proba, threshold=0.5):\n    y_pred = (y_pred_proba >= threshold).astype(int)\n    \n    metrics = {\n        'roc_auc': roc_auc_score(y_true, y_pred_proba),\n        'avg_precision': average_precision_score(y_true, y_pred_proba),\n        'precision': precision_score(y_true, y_pred, zero_division=0),\n        'recall': recall_score(y_true, y_pred, zero_division=0),\n        'f1': f1_score(y_true, y_pred, zero_division=0)\n    }\n    \n    # Top-K\n    for k in [10, 50, 100]:\n        top_k = np.argsort(y_pred_proba)[-k:]\n        metrics[f'precision@{k}'] = y_true[top_k].sum() / k\n        metrics[f'hits@{k}'] = y_true[top_k].sum() / y_true.sum()\n    \n    return metrics\n\nprint(\"Evaluation functions defined\")"
  },
  {
   "cell_type": "markdown",
   "metadata": {},
   "source": "---\n\n## Question 7 (Part 1): Graph Evolution"
  },
  {
   "cell_type": "code",
   "execution_count": null,
   "metadata": {},
   "outputs": [],
   "source": "years = sorted(temporal_graphs.keys())\nstats = {\n    'nodes': [temporal_graphs[y].number_of_nodes() for y in years],\n    'edges': [temporal_graphs[y].number_of_edges() for y in years],\n    'density': [nx.density(temporal_graphs[y]) for y in years]\n}\n\nfig, axes = plt.subplots(1, 3, figsize=(15, 4))\n\naxes[0].plot(years, stats['nodes'], 'o-', linewidth=2)\naxes[0].set_title('Number of Authors')\naxes[0].grid(alpha=0.3)\n\naxes[1].plot(years, stats['edges'], 'o-', linewidth=2, color='orange')\naxes[1].set_title('Collaborations')\naxes[1].grid(alpha=0.3)\n\naxes[2].plot(years, stats['density'], 'o-', linewidth=2, color='green')\naxes[2].set_title('Density')\naxes[2].grid(alpha=0.3)\n\nplt.tight_layout()\nplt.savefig('graph_evolution.png', dpi=150)\nplt.show()"
  },
  {
   "cell_type": "markdown",
   "metadata": {},
   "source": "---\n\n## Question 7 (Part 2): Results Visualizations"
  },
  {
   "cell_type": "code",
   "execution_count": null,
   "metadata": {},
   "outputs": [],
   "source": "# Example visualization (with simulated data)\ny_true_demo = np.concatenate([np.ones(100), np.zeros(900)])\ny_pred_demo = np.concatenate([np.random.beta(8,2,100), np.random.beta(2,8,900)])\n\nmetrics_demo = evaluate(y_true_demo, y_pred_demo)\n\nprint(\"\\n\" + \"=\"*50)\nprint(\"EVALUATION METRICS\".center(50))\nprint(\"=\"*50)\nfor k, v in metrics_demo.items():\n    print(f\"{k:20s}: {v:.4f}\")\nprint(\"=\"*50)"
  },
  {
   "cell_type": "code",
   "execution_count": 22,
   "metadata": {},
   "outputs": [
    {
     "data": {
      "image/png": "[encoded data removed]",
      "text/plain": [
       "<Figure size 1000x500 with 2 Axes>"
      ]
     },
     "metadata": {},
     "output_type": "display_data"
    }
   ],
   "source": [
    "# PR Curve\n",
    "precision, recall, _ = precision_recall_curve(y_true_demo, y_pred_demo)\n",
    "\n",
    "plt.figure(figsize=(10, 5))\n",
    "plt.subplot(1,2,1)\n",
    "plt.plot(recall, precision, linewidth=2)\n",
    "plt.xlabel('Recall')\n",
    "plt.ylabel('Precision')\n",
    "plt.title('Precision-Recall Curve')\n",
    "plt.grid(alpha=0.3)\n",
    "\n",
    "# ROC Curve\n",
    "fpr, tpr, _ = roc_curve(y_true_demo, y_pred_demo)\n",
    "plt.subplot(1,2,2)\n",
    "plt.plot(fpr, tpr, linewidth=2)\n",
    "plt.plot([0,1], [0,1], 'k--', alpha=0.3)\n",
    "plt.xlabel('FPR')\n",
    "plt.ylabel('TPR')\n",
    "plt.title('ROC Curve')\n",
    "plt.grid(alpha=0.3)\n",
    "\n",
    "plt.tight_layout()\n",
    "plt.savefig('metrics_curves.png', dpi=150)\n",
    "plt.show()"
   ]
  }
 ],
 "metadata": {
  "kernelspec": {
   "display_name": "Python 3",
   "language": "python",
   "name": "python3"
  },
  "language_info": {
   "codemirror_mode": {
    "name": "ipython",
    "version": 3
   },
   "file_extension": ".py",
   "mimetype": "text/x-python",
   "name": "python",
   "nbconvert_exporter": "python",
   "pygments_lexer": "ipython3",
   "version": "3.9.6"
  }
 },
 "nbformat": 4,
 "nbformat_minor": 4
}